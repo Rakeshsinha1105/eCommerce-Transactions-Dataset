!pip install pandas matplotlib seaborn scikit-learn --quiet
import pandas as pd
import matplotlib.pyplot as plt
import seaborn as sns
from sklearn.metrics.pairwise import cosine_similarity
from sklearn.preprocessing import StandardScaler
from sklearn.cluster import KMeans
from sklearn.metrics import davies_bouldin_score
# Upload the CSV files
from google.colab import files
uploaded = files.upload()

# Load datasets
customers = pd.read_csv("Customers.csv")
products = pd.read_csv("Products.csv")
transactions = pd.read_csv("Transactions.csv")

# Display first few rows of each dataset
print("Customers:\n", customers.head())
print("Products:\n", products.head())
print("Transactions:\n", transactions.head())
# Merge datasets
data = transactions.merge(customers, on="CustomerID").merge(products, on="ProductID")

# Insight 1: Customer distribution by region
region_counts = customers["Region"].value_counts()
plt.figure(figsize=(8, 5))
plt.pie(region_counts, labels=region_counts.index, autopct='%1.1f%%', startangle=90)
plt.title("Customer Distribution by Region")
plt.show()

# Insight 2: Top 5 most sold products
top_products = data.groupby("ProductName")["Quantity"].sum().sort_values(ascending=False).head(5)
plt.figure(figsize=(8, 5))
sns.barplot(x=top_products.values, y=top_products.index, palette="viridis")
plt.title("Top 5 Most Sold Products")
plt.xlabel("Quantity Sold")
plt.ylabel("Product Name")
plt.show()

# Insight 3: Monthly sales trends
data['TransactionDate'] = pd.to_datetime(data['TransactionDate'])
data['Month'] = data['TransactionDate'].dt.month
monthly_sales = data.groupby("Month")["TotalValue"].sum()
plt.figure(figsize=(10, 6))
monthly_sales.plot(kind='bar', color='skyblue')
plt.title("Monthly Sales Trends")
plt.xlabel("Month")
plt.ylabel("Total Sales")
plt.show()

# Insight 4: High-value customers
high_value_customers = data.groupby("CustomerID")["TotalValue"].sum().sort_values(ascending=False).head(5)
print("Top 5 High-Value Customers:\n", high_value_customers)

# Insight 5: Popular product categories
popular_categories = data.groupby("Category")["Quantity"].sum().sort_values(ascending=False)
plt.figure(figsize=(8, 5))
sns.barplot(x=popular_categories.values, y=popular_categories.index, palette="coolwarm")
plt.title("Most Popular Product Categories")
plt.xlabel("Total Quantity Sold")
plt.ylabel("Category")
plt.show()

